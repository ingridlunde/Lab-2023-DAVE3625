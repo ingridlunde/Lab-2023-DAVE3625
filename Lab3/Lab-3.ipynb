{
 "cells": [
  {
   "cell_type": "code",
   "execution_count": 1,
   "metadata": {},
   "outputs": [],
   "source": [
    "#Imports\n",
    "from faker import Faker\n",
    "import pandas as pd\n",
    "#from laundromat.spacy.spacy_model import SpacyModel\n",
    "from faker.providers.credit_card import Provider as CreditCardProvider #Add creditcards to faker"
   ]
  },
  {
   "cell_type": "markdown",
   "metadata": {},
   "source": [
    "Task 1:\n",
    "Create a dataframe with 100 fake persons."
   ]
  },
  {
   "cell_type": "code",
   "execution_count": 2,
   "metadata": {},
   "outputs": [],
   "source": [
    "#Create a faker with norwegian Names and structures\n",
    "\n",
    "fake = Faker(['no_NO'])"
   ]
  },
  {
   "cell_type": "code",
   "execution_count": 9,
   "metadata": {},
   "outputs": [],
   "source": [
    "#Create a empty dataframe\n",
    "df = pd.DataFrame(columns=[ 'Navn', 'Adresse', 'PersonNr', 'CreditCard', 'ipv4'])"
   ]
  },
  {
   "cell_type": "code",
   "execution_count": 10,
   "metadata": {},
   "outputs": [
    {
     "data": {
      "text/html": [
       "<div>\n",
       "<style scoped>\n",
       "    .dataframe tbody tr th:only-of-type {\n",
       "        vertical-align: middle;\n",
       "    }\n",
       "\n",
       "    .dataframe tbody tr th {\n",
       "        vertical-align: top;\n",
       "    }\n",
       "\n",
       "    .dataframe thead th {\n",
       "        text-align: right;\n",
       "    }\n",
       "</style>\n",
       "<table border=\"1\" class=\"dataframe\">\n",
       "  <thead>\n",
       "    <tr style=\"text-align: right;\">\n",
       "      <th></th>\n",
       "      <th>Navn</th>\n",
       "      <th>Adresse</th>\n",
       "      <th>PersonNr</th>\n",
       "      <th>CreditCard</th>\n",
       "      <th>ipv4</th>\n",
       "    </tr>\n",
       "  </thead>\n",
       "  <tbody>\n",
       "  </tbody>\n",
       "</table>\n",
       "</div>"
      ],
      "text/plain": [
       "Empty DataFrame\n",
       "Columns: [Navn, Adresse, PersonNr, CreditCard, ipv4]\n",
       "Index: []"
      ]
     },
     "execution_count": 10,
     "metadata": {},
     "output_type": "execute_result"
    }
   ],
   "source": [
    "df.head()"
   ]
  },
  {
   "cell_type": "code",
   "execution_count": 11,
   "metadata": {},
   "outputs": [],
   "source": [
    "for i in range(100):\n",
    "    Navn = fake.name()\n",
    "    Adresse = fake.address()\n",
    "    PersonNr = fake.ssn()\n",
    "    CreditCard = fake.credit_card_number()\n",
    "    ipv4 = fake.ipv4()\n",
    "\n",
    "    row = Navn, Adresse, PersonNr, CreditCard, ipv4\n",
    "    df.loc[i] = row"
   ]
  },
  {
   "cell_type": "code",
   "execution_count": 12,
   "metadata": {},
   "outputs": [
    {
     "data": {
      "text/html": [
       "<div>\n",
       "<style scoped>\n",
       "    .dataframe tbody tr th:only-of-type {\n",
       "        vertical-align: middle;\n",
       "    }\n",
       "\n",
       "    .dataframe tbody tr th {\n",
       "        vertical-align: top;\n",
       "    }\n",
       "\n",
       "    .dataframe thead th {\n",
       "        text-align: right;\n",
       "    }\n",
       "</style>\n",
       "<table border=\"1\" class=\"dataframe\">\n",
       "  <thead>\n",
       "    <tr style=\"text-align: right;\">\n",
       "      <th></th>\n",
       "      <th>Navn</th>\n",
       "      <th>Adresse</th>\n",
       "      <th>PersonNr</th>\n",
       "      <th>CreditCard</th>\n",
       "      <th>ipv4</th>\n",
       "    </tr>\n",
       "  </thead>\n",
       "  <tbody>\n",
       "    <tr>\n",
       "      <th>0</th>\n",
       "      <td>Trine Jacobsen</td>\n",
       "      <td>Strømfaret 464, 9407 Gundersen</td>\n",
       "      <td>15119326645</td>\n",
       "      <td>4087358692993363</td>\n",
       "      <td>186.209.166.64</td>\n",
       "    </tr>\n",
       "    <tr>\n",
       "      <th>1</th>\n",
       "      <td>Per Hansen-Bøe</td>\n",
       "      <td>Brekkelyngen 81, 3379 Strand</td>\n",
       "      <td>24054421520</td>\n",
       "      <td>4940315368026026751</td>\n",
       "      <td>20.144.144.4</td>\n",
       "    </tr>\n",
       "    <tr>\n",
       "      <th>2</th>\n",
       "      <td>Vegard Johansen</td>\n",
       "      <td>Danielsenhaugen 9, 2108 Kristofferodden</td>\n",
       "      <td>27019429895</td>\n",
       "      <td>6570366676209309</td>\n",
       "      <td>121.68.189.202</td>\n",
       "    </tr>\n",
       "    <tr>\n",
       "      <th>3</th>\n",
       "      <td>Simen-Roy Knutsen</td>\n",
       "      <td>Brekkehavna 7E, 7084 Eivindborg</td>\n",
       "      <td>12127028468</td>\n",
       "      <td>2704223602434931</td>\n",
       "      <td>61.207.82.104</td>\n",
       "    </tr>\n",
       "    <tr>\n",
       "      <th>4</th>\n",
       "      <td>Henrik Vik</td>\n",
       "      <td>Haugelia 697, 5312 Jacobsen</td>\n",
       "      <td>15119836430</td>\n",
       "      <td>213138740554960</td>\n",
       "      <td>4.146.77.53</td>\n",
       "    </tr>\n",
       "  </tbody>\n",
       "</table>\n",
       "</div>"
      ],
      "text/plain": [
       "                Navn                                  Adresse     PersonNr  \\\n",
       "0     Trine Jacobsen           Strømfaret 464, 9407 Gundersen  15119326645   \n",
       "1     Per Hansen-Bøe             Brekkelyngen 81, 3379 Strand  24054421520   \n",
       "2    Vegard Johansen  Danielsenhaugen 9, 2108 Kristofferodden  27019429895   \n",
       "3  Simen-Roy Knutsen          Brekkehavna 7E, 7084 Eivindborg  12127028468   \n",
       "4         Henrik Vik              Haugelia 697, 5312 Jacobsen  15119836430   \n",
       "\n",
       "            CreditCard            ipv4  \n",
       "0     4087358692993363  186.209.166.64  \n",
       "1  4940315368026026751    20.144.144.4  \n",
       "2     6570366676209309  121.68.189.202  \n",
       "3     2704223602434931   61.207.82.104  \n",
       "4      213138740554960     4.146.77.53  "
      ]
     },
     "execution_count": 12,
     "metadata": {},
     "output_type": "execute_result"
    }
   ],
   "source": [
    "df.head()"
   ]
  },
  {
   "cell_type": "markdown",
   "metadata": {},
   "source": [
    "2. Anonymization When a customer send your company an email that contain personal information, you could train a model to remove that data Laundromat is one package that can do that. Lets just try to remove Name and Address, since laundromat can do that \"out of the box\""
   ]
  },
  {
   "cell_type": "code",
   "execution_count": null,
   "metadata": {},
   "outputs": [],
   "source": [
    "textArray = [] #Create a empty array\n",
    "# Do a for loop, and assign value to name and adress. \n",
    "row = df.iloc[i]\n",
    "name = row[0]\n",
    "adress = row[1]\n",
    "ssn = row[2]\n",
    "cc = row[3]\n",
    "#Using f string we can no create a new string with the values, and append that string to the next array. \n",
    "textArray.append(f'Hi, my name is {name}. I wonder if you deliver to {adress}. My credit card number is {cc} and my ssn is {ssn}')"
   ]
  }
 ],
 "metadata": {
  "kernelspec": {
   "display_name": "dave3625",
   "language": "python",
   "name": "python3"
  },
  "language_info": {
   "codemirror_mode": {
    "name": "ipython",
    "version": 3
   },
   "file_extension": ".py",
   "mimetype": "text/x-python",
   "name": "python",
   "nbconvert_exporter": "python",
   "pygments_lexer": "ipython3",
   "version": "3.8.17"
  },
  "orig_nbformat": 4
 },
 "nbformat": 4,
 "nbformat_minor": 2
}
