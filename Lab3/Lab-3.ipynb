{
 "cells": [
  {
   "cell_type": "code",
   "execution_count": 2,
   "metadata": {},
   "outputs": [],
   "source": [
    "#Imports\n",
    "from faker import Faker\n",
    "import pandas as pd\n",
    "#from laundromat.spacy.spacy_model import SpacyModel\n",
    "from faker.providers.credit_card import Provider as CreditCardProvider #Add creditcards to faker"
   ]
  },
  {
   "cell_type": "markdown",
   "metadata": {},
   "source": [
    "Task 1:\n",
    "Create a dataframe with 100 fake persons."
   ]
  },
  {
   "cell_type": "code",
   "execution_count": 3,
   "metadata": {},
   "outputs": [],
   "source": [
    "#Create a faker with norwegian Names and structures\n",
    "\n",
    "fake = Faker(['no_NO'])"
   ]
  },
  {
   "cell_type": "code",
   "execution_count": 5,
   "metadata": {},
   "outputs": [],
   "source": [
    "#Create a empty dataframe\n",
    "df = pd.DataFrame(columns=[ 'Navn', 'Adresse', 'PersonNr', 'CreditCard', 'ipv4'])"
   ]
  },
  {
   "cell_type": "code",
   "execution_count": 6,
   "metadata": {},
   "outputs": [
    {
     "data": {
      "text/html": [
       "<div>\n",
       "<style scoped>\n",
       "    .dataframe tbody tr th:only-of-type {\n",
       "        vertical-align: middle;\n",
       "    }\n",
       "\n",
       "    .dataframe tbody tr th {\n",
       "        vertical-align: top;\n",
       "    }\n",
       "\n",
       "    .dataframe thead th {\n",
       "        text-align: right;\n",
       "    }\n",
       "</style>\n",
       "<table border=\"1\" class=\"dataframe\">\n",
       "  <thead>\n",
       "    <tr style=\"text-align: right;\">\n",
       "      <th></th>\n",
       "      <th>Navn</th>\n",
       "      <th>Adresse</th>\n",
       "      <th>PersonNr</th>\n",
       "      <th>CreditCard</th>\n",
       "      <th>ipv4</th>\n",
       "    </tr>\n",
       "  </thead>\n",
       "  <tbody>\n",
       "  </tbody>\n",
       "</table>\n",
       "</div>"
      ],
      "text/plain": [
       "Empty DataFrame\n",
       "Columns: [Navn, Adresse, PersonNr, CreditCard, ipv4]\n",
       "Index: []"
      ]
     },
     "execution_count": 6,
     "metadata": {},
     "output_type": "execute_result"
    }
   ],
   "source": [
    "df.head()"
   ]
  },
  {
   "cell_type": "code",
   "execution_count": 7,
   "metadata": {},
   "outputs": [],
   "source": [
    "for i in range(100):\n",
    "    Navn = fake.name()\n",
    "    Adresse = fake.address()\n",
    "    PersonNr = fake.ssn()\n",
    "    CreditCard = fake.credit_card_number()\n",
    "    ipv4 = fake.ipv4()\n",
    "\n",
    "    row = Navn, Adresse, PersonNr, CreditCard, ipv4\n",
    "    df.loc[i] = row"
   ]
  },
  {
   "cell_type": "code",
   "execution_count": 8,
   "metadata": {},
   "outputs": [
    {
     "data": {
      "text/html": [
       "<div>\n",
       "<style scoped>\n",
       "    .dataframe tbody tr th:only-of-type {\n",
       "        vertical-align: middle;\n",
       "    }\n",
       "\n",
       "    .dataframe tbody tr th {\n",
       "        vertical-align: top;\n",
       "    }\n",
       "\n",
       "    .dataframe thead th {\n",
       "        text-align: right;\n",
       "    }\n",
       "</style>\n",
       "<table border=\"1\" class=\"dataframe\">\n",
       "  <thead>\n",
       "    <tr style=\"text-align: right;\">\n",
       "      <th></th>\n",
       "      <th>Navn</th>\n",
       "      <th>Adresse</th>\n",
       "      <th>PersonNr</th>\n",
       "      <th>CreditCard</th>\n",
       "      <th>ipv4</th>\n",
       "    </tr>\n",
       "  </thead>\n",
       "  <tbody>\n",
       "    <tr>\n",
       "      <th>0</th>\n",
       "      <td>Gro Haug</td>\n",
       "      <td>Haugebakken 8, 2743 Finnvær</td>\n",
       "      <td>07090592488</td>\n",
       "      <td>343555116506287</td>\n",
       "      <td>117.109.68.48</td>\n",
       "    </tr>\n",
       "    <tr>\n",
       "      <th>1</th>\n",
       "      <td>Unni-Heidi Lund</td>\n",
       "      <td>Strandmoen 83C, 5294 Haraldmark</td>\n",
       "      <td>05024010475</td>\n",
       "      <td>3512158021888905</td>\n",
       "      <td>114.16.13.214</td>\n",
       "    </tr>\n",
       "    <tr>\n",
       "      <th>2</th>\n",
       "      <td>Roger Simonsen</td>\n",
       "      <td>Jacobsenskrenten 7, 6927 Sørensen</td>\n",
       "      <td>26074102041</td>\n",
       "      <td>4420030545213691458</td>\n",
       "      <td>88.103.149.41</td>\n",
       "    </tr>\n",
       "    <tr>\n",
       "      <th>3</th>\n",
       "      <td>Anette Myhre</td>\n",
       "      <td>Pedersenåsen 892, 0343 Nguyen</td>\n",
       "      <td>06070379803</td>\n",
       "      <td>4188103008764328405</td>\n",
       "      <td>56.20.213.248</td>\n",
       "    </tr>\n",
       "    <tr>\n",
       "      <th>4</th>\n",
       "      <td>Kjetil Eriksen</td>\n",
       "      <td>Lundhøgda 4, 7004 Solveigodden</td>\n",
       "      <td>27010277308</td>\n",
       "      <td>4719840079552140</td>\n",
       "      <td>141.246.11.153</td>\n",
       "    </tr>\n",
       "  </tbody>\n",
       "</table>\n",
       "</div>"
      ],
      "text/plain": [
       "              Navn                            Adresse     PersonNr  \\\n",
       "0         Gro Haug        Haugebakken 8, 2743 Finnvær  07090592488   \n",
       "1  Unni-Heidi Lund    Strandmoen 83C, 5294 Haraldmark  05024010475   \n",
       "2   Roger Simonsen  Jacobsenskrenten 7, 6927 Sørensen  26074102041   \n",
       "3     Anette Myhre      Pedersenåsen 892, 0343 Nguyen  06070379803   \n",
       "4   Kjetil Eriksen     Lundhøgda 4, 7004 Solveigodden  27010277308   \n",
       "\n",
       "            CreditCard            ipv4  \n",
       "0      343555116506287   117.109.68.48  \n",
       "1     3512158021888905   114.16.13.214  \n",
       "2  4420030545213691458   88.103.149.41  \n",
       "3  4188103008764328405   56.20.213.248  \n",
       "4     4719840079552140  141.246.11.153  "
      ]
     },
     "execution_count": 8,
     "metadata": {},
     "output_type": "execute_result"
    }
   ],
   "source": [
    "df.head()"
   ]
  },
  {
   "cell_type": "markdown",
   "metadata": {},
   "source": [
    "2. Anonymization When a customer send your company an email that contain personal information, you could train a model to remove that data Laundromat is one package that can do that. Lets just try to remove Name and Address, since laundromat can do that \"out of the box\""
   ]
  },
  {
   "cell_type": "code",
   "execution_count": 22,
   "metadata": {},
   "outputs": [],
   "source": [
    "textArray = [] #Create a empty array\n",
    "# Do a for loop, and assign value to name and adress.\n",
    "# Using Laundromat on the 10 first rows, and append the result to the array.\n",
    "for i in range(10):\n",
    "    row = df.iloc[i] # i gets the last 'row' in the dataframe, when not in a for loop. Can change to a number to get a specific row.\n",
    "    name = row[0] # sets the column to the correct value\n",
    "    adress = row[1]\n",
    "    ssn = row[2]\n",
    "    cc = row[3]\n",
    "    #Using f string we can no create a new string with the values, and append that string to the next array. \n",
    "    textArray.append(f'Hi, my name is {name}. I wonder if you deliver to {adress}. My credit card number is {cc} and my ssn is {ssn}')"
   ]
  },
  {
   "cell_type": "code",
   "execution_count": 23,
   "metadata": {},
   "outputs": [
    {
     "data": {
      "text/plain": [
       "['Hi, my name is Gro Haug. I wonder if you deliver to Haugebakken 8, 2743 Finnvær. My credit card number is 343555116506287 and my ssn is 07090592488',\n",
       " 'Hi, my name is Unni-Heidi Lund. I wonder if you deliver to Strandmoen 83C, 5294 Haraldmark. My credit card number is 3512158021888905 and my ssn is 05024010475',\n",
       " 'Hi, my name is Roger Simonsen. I wonder if you deliver to Jacobsenskrenten 7, 6927 Sørensen. My credit card number is 4420030545213691458 and my ssn is 26074102041',\n",
       " 'Hi, my name is Anette Myhre. I wonder if you deliver to Pedersenåsen 892, 0343 Nguyen. My credit card number is 4188103008764328405 and my ssn is 06070379803',\n",
       " 'Hi, my name is Kjetil Eriksen. I wonder if you deliver to Lundhøgda 4, 7004 Solveigodden. My credit card number is 4719840079552140 and my ssn is 27010277308',\n",
       " 'Hi, my name is Kristine Eliassen. I wonder if you deliver to Gundersensvingen 1, 0532 Halvorsen. My credit card number is 4276610617730655 and my ssn is 11045415297',\n",
       " 'Hi, my name is May Amundsen. I wonder if you deliver to Simonsenspranget 2, 6785 Marianneborg. My credit card number is 676199253177 and my ssn is 09044735692',\n",
       " 'Hi, my name is Inger Johansen. I wonder if you deliver to Andreassentunet 54F, 9322 Perodden. My credit card number is 6529285645190857 and my ssn is 26037233454',\n",
       " 'Hi, my name is Tone-Jorunn Sivertsen. I wonder if you deliver to Birkelandgrenda 1, 1815 Wencheås. My credit card number is 4687150120001586 and my ssn is 14035443887',\n",
       " 'Hi, my name is Johannes Andersen. I wonder if you deliver to Sørensenskogen 4, 0623 Sæther. My credit card number is 3533735953565703 and my ssn is 10053732637']"
      ]
     },
     "execution_count": 23,
     "metadata": {},
     "output_type": "execute_result"
    }
   ],
   "source": [
    "#Print to see the result\n",
    "textArray"
   ]
  },
  {
   "cell_type": "markdown",
   "metadata": {},
   "source": [
    "# I then use more common methods to anonymize the text array\n",
    "anonymizedTextArray = []  # This will store the anonymized strings\n",
    "\n",
    "for text in textArray:  # Iterate over each string in textArray\n",
    "    for index, row in df.iterrows():\n",
    "        navn = row[0]\n",
    "        adresse = row[1]\n",
    "        text = text.replace(navn, \"[NAVN]\")\n",
    "        text = text.replace(adresse, \"[ADRESSE]\")\n",
    "    anonymizedTextArray.append(text)\n",
    "\n",
    "print(anonymizedTextArray)\n",
    "\n",
    "# This anonymized text array does not contain parts of the original array that was not identified as containing anonymous data\n",
    "# ssn, credit card number and ipv4 is not anonymized here."
   ]
  }
 ],
 "metadata": {
  "kernelspec": {
   "display_name": "dave3625",
   "language": "python",
   "name": "python3"
  },
  "language_info": {
   "codemirror_mode": {
    "name": "ipython",
    "version": 3
   },
   "file_extension": ".py",
   "mimetype": "text/x-python",
   "name": "python",
   "nbconvert_exporter": "python",
   "pygments_lexer": "ipython3",
   "version": "3.8.17"
  },
  "orig_nbformat": 4
 },
 "nbformat": 4,
 "nbformat_minor": 2
}
