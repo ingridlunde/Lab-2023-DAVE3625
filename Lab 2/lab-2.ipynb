{
 "cells": [
  {
   "cell_type": "code",
   "execution_count": 2,
   "metadata": {},
   "outputs": [
    {
     "ename": "ModuleNotFoundError",
     "evalue": "No module named 'seaborn'",
     "output_type": "error",
     "traceback": [
      "\u001b[0;31m---------------------------------------------------------------------------\u001b[0m",
      "\u001b[0;31mModuleNotFoundError\u001b[0m                       Traceback (most recent call last)",
      "\u001b[1;32m/Users/ingridlunde/Library/CloudStorage/OneDrive-OsloMet/Dataingeniør OsloMet/5. semester/DAVE3525/Lab-2023-DAVE3625/Lab 2/lab-2.ipynb Cell 1\u001b[0m line \u001b[0;36m6\n\u001b[1;32m      <a href='vscode-notebook-cell:/Users/ingridlunde/Library/CloudStorage/OneDrive-OsloMet/Dataingeni%C3%B8r%20OsloMet/5.%20semester/DAVE3525/Lab-2023-DAVE3625/Lab%202/lab-2.ipynb#W0sZmlsZQ%3D%3D?line=3'>4</a>\u001b[0m \u001b[39mimport\u001b[39;00m \u001b[39mnumpy\u001b[39;00m \u001b[39mas\u001b[39;00m \u001b[39mnp\u001b[39;00m\n\u001b[1;32m      <a href='vscode-notebook-cell:/Users/ingridlunde/Library/CloudStorage/OneDrive-OsloMet/Dataingeni%C3%B8r%20OsloMet/5.%20semester/DAVE3525/Lab-2023-DAVE3625/Lab%202/lab-2.ipynb#W0sZmlsZQ%3D%3D?line=4'>5</a>\u001b[0m \u001b[39mimport\u001b[39;00m \u001b[39mmatplotlib\u001b[39;00m\u001b[39m.\u001b[39;00m\u001b[39mpyplot\u001b[39;00m \u001b[39mas\u001b[39;00m \u001b[39mplt\u001b[39;00m\n\u001b[0;32m----> <a href='vscode-notebook-cell:/Users/ingridlunde/Library/CloudStorage/OneDrive-OsloMet/Dataingeni%C3%B8r%20OsloMet/5.%20semester/DAVE3525/Lab-2023-DAVE3625/Lab%202/lab-2.ipynb#W0sZmlsZQ%3D%3D?line=5'>6</a>\u001b[0m \u001b[39mimport\u001b[39;00m \u001b[39mseaborn\u001b[39;00m \u001b[39mas\u001b[39;00m \u001b[39msns\u001b[39;00m\n\u001b[1;32m      <a href='vscode-notebook-cell:/Users/ingridlunde/Library/CloudStorage/OneDrive-OsloMet/Dataingeni%C3%B8r%20OsloMet/5.%20semester/DAVE3525/Lab-2023-DAVE3625/Lab%202/lab-2.ipynb#W0sZmlsZQ%3D%3D?line=6'>7</a>\u001b[0m \u001b[39mimport\u001b[39;00m \u001b[39mre\u001b[39;00m\n",
      "\u001b[0;31mModuleNotFoundError\u001b[0m: No module named 'seaborn'"
     ]
    }
   ],
   "source": [
    "#Import modules\n",
    "%matplotlib inline\n",
    "import pandas as pd\n",
    "import numpy as np\n",
    "import matplotlib.pyplot as plt\n",
    "import seaborn as sns\n",
    "import re"
   ]
  },
  {
   "cell_type": "code",
   "execution_count": 6,
   "metadata": {},
   "outputs": [
    {
     "ename": "NameError",
     "evalue": "name 'pd' is not defined",
     "output_type": "error",
     "traceback": [
      "\u001b[0;31m---------------------------------------------------------------------------\u001b[0m",
      "\u001b[0;31mNameError\u001b[0m                                 Traceback (most recent call last)",
      "\u001b[1;32m/Users/ingridlunde/Library/CloudStorage/OneDrive-OsloMet/Dataingeniør OsloMet/5. semester/DAVE3525/Lab-2023-DAVE3625/Lab 2/lab-1.ipynb Cell 2\u001b[0m line \u001b[0;36m4\n\u001b[1;32m      <a href='vscode-notebook-cell:/Users/ingridlunde/Library/CloudStorage/OneDrive-OsloMet/Dataingeni%C3%B8r%20OsloMet/5.%20semester/DAVE3525/Lab-2023-DAVE3625/Lab%202/lab-1.ipynb#W5sZmlsZQ%3D%3D?line=0'>1</a>\u001b[0m \u001b[39m#url = 'https://raw.githubusercontent.com/DAVE3625-22H/Lab-0/main/Titanic.csv'\u001b[39;00m\n\u001b[0;32m----> <a href='vscode-notebook-cell:/Users/ingridlunde/Library/CloudStorage/OneDrive-OsloMet/Dataingeni%C3%B8r%20OsloMet/5.%20semester/DAVE3525/Lab-2023-DAVE3625/Lab%202/lab-1.ipynb#W5sZmlsZQ%3D%3D?line=3'>4</a>\u001b[0m df \u001b[39m=\u001b[39m pd\u001b[39m.\u001b[39mread_csv(\u001b[39m'\u001b[39m\u001b[39mdata/Titanic.csv\u001b[39m\u001b[39m'\u001b[39m, sep\u001b[39m=\u001b[39m\u001b[39m'\u001b[39m\u001b[39m,\u001b[39m\u001b[39m'\u001b[39m)\n",
      "\u001b[0;31mNameError\u001b[0m: name 'pd' is not defined"
     ]
    }
   ],
   "source": [
    "#url = 'https://raw.githubusercontent.com/DAVE3625-22H/Lab-0/main/Titanic.csv'\n",
    "\n",
    "\n",
    "df = pd.read_csv('data/Titanic.csv', sep=',')"
   ]
  },
  {
   "cell_type": "markdown",
   "metadata": {},
   "source": [
    "to your imports.\n",
    "\n",
    "Load the titanic set found under /data/Titanic.csv as we did in Lab1\n",
    "\n",
    "Hint: Click view as \"Raw\" and copy the url"
   ]
  },
  {
   "cell_type": "markdown",
   "metadata": {},
   "source": [
    "Task\n",
    "1. Check for null and nan values\n",
    "\n",
    "In lab 1 we used df.isna().sum() to check for nan values. Since we didn’t find many, we converted blankspace into np.nan to help us procide. Lets try it again on this dataset."
   ]
  },
  {
   "cell_type": "code",
   "execution_count": null,
   "metadata": {},
   "outputs": [],
   "source": [
    "df.isna().sum()\n"
   ]
  }
 ],
 "metadata": {
  "kernelspec": {
   "display_name": "dave3625",
   "language": "python",
   "name": "python3"
  },
  "language_info": {
   "codemirror_mode": {
    "name": "ipython",
    "version": 3
   },
   "file_extension": ".py",
   "mimetype": "text/x-python",
   "name": "python",
   "nbconvert_exporter": "python",
   "pygments_lexer": "ipython3",
   "version": "3.8.17"
  },
  "orig_nbformat": 4
 },
 "nbformat": 4,
 "nbformat_minor": 2
}
